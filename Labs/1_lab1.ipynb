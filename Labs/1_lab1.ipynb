{
 "cells": [
  {
   "cell_type": "markdown",
   "metadata": {},
   "source": [
    "# Welcome to the start of your adventure in Agentic AI"
   ]
  },
  {
   "cell_type": "code",
   "execution_count": 17,
   "metadata": {},
   "outputs": [],
   "source": [
    "# First let's do an import. If you get an Import Error, double check that your Kernel is correct..\n",
    "\n",
    "from dotenv import load_dotenv\n",
    "from IPython.display import display, Markdown\n"
   ]
  },
  {
   "cell_type": "code",
   "execution_count": 2,
   "metadata": {},
   "outputs": [
    {
     "data": {
      "text/plain": [
       "True"
      ]
     },
     "execution_count": 2,
     "metadata": {},
     "output_type": "execute_result"
    }
   ],
   "source": [
    "# Next it's time to load the API keys into environment variables\n",
    "# If this returns false, see the next cell!\n",
    "\n",
    "load_dotenv(override=True)"
   ]
  },
  {
   "cell_type": "code",
   "execution_count": 5,
   "metadata": {},
   "outputs": [
    {
     "name": "stdout",
     "output_type": "stream",
     "text": [
      "Deepseek API Key exists and begins sk-4c93c\n"
     ]
    }
   ],
   "source": [
    "# Check the key \n",
    "\n",
    "import os\n",
    "deepseek_api_key = os.getenv('DEEPSEEK_API_KEY')\n",
    "\n",
    "if deepseek_api_key:\n",
    "    print(f\"Deepseek API Key exists and begins {deepseek_api_key[:8]}\")\n",
    "else:\n",
    "    print(\"Deepseek API Key not set - please head to the troubleshooting guide in the setup folder\")\n",
    "    \n"
   ]
  },
  {
   "cell_type": "code",
   "execution_count": null,
   "metadata": {},
   "outputs": [],
   "source": [
    "# And now - the all important import statement\n",
    "from openai import OpenAI"
   ]
  },
  {
   "cell_type": "code",
   "execution_count": null,
   "metadata": {},
   "outputs": [],
   "source": [
    "# And now we'll create an instance of the OpenAI class\n",
    "DEEPSEEK_BASE_URL = \"https://api.deepseek.com/v1\"\n",
    "deepseek = OpenAI(base_url=DEEPSEEK_BASE_URL, api_key=deepseek_api_key)"
   ]
  },
  {
   "cell_type": "code",
   "execution_count": 7,
   "metadata": {},
   "outputs": [],
   "source": [
    "# Create a list of messages in the familiar OpenAI format\n",
    "\n",
    "messages = [{\"role\": \"user\", \"content\": \"What is 2+2?\"}]"
   ]
  },
  {
   "cell_type": "code",
   "execution_count": null,
   "metadata": {},
   "outputs": [
    {
     "name": "stdout",
     "output_type": "stream",
     "text": [
      "That's a fundamental math question!  \n",
      "\n",
      "**2 + 2 = 4**  \n",
      "\n",
      "It's one of the first addition facts we learn. Let me know if you have any other questions! 😊\n"
     ]
    }
   ],
   "source": [
    "# And now call it! \n",
    "response = deepseek.chat.completions.create(\n",
    "    model=\"deepseek-chat\",\n",
    "    messages=messages\n",
    ")\n",
    "\n",
    "print(response.choices[0].message.content)\n"
   ]
  },
  {
   "cell_type": "code",
   "execution_count": 8,
   "metadata": {},
   "outputs": [],
   "source": [
    "# And now - let's ask for a question:\n",
    "\n",
    "question = \"Please propose a hard, challenging question to assess someone's IQ. Respond only with the question.\"\n",
    "messages = [{\"role\": \"user\", \"content\": question}]\n"
   ]
  },
  {
   "cell_type": "code",
   "execution_count": null,
   "metadata": {},
   "outputs": [
    {
     "name": "stdout",
     "output_type": "stream",
     "text": [
      "If you have three boxes labeled \"Apples,\" \"Oranges,\" and \"Apples and Oranges,\" but each label is incorrect, what is the minimum number of fruits you must remove and inspect from which box(es) to correctly relabel all three?\n"
     ]
    }
   ],
   "source": [
    "# ask it - this uses deepseek-chat\n",
    "\n",
    "response = deepseek.chat.completions.create(\n",
    "    model=\"deepseek-chat\",\n",
    "    messages=messages\n",
    ")\n",
    "\n",
    "question = response.choices[0].message.content\n",
    "\n",
    "print(question)\n"
   ]
  },
  {
   "cell_type": "code",
   "execution_count": 9,
   "metadata": {},
   "outputs": [],
   "source": [
    "# form a new messages list\n",
    "messages = [{\"role\": \"user\", \"content\": question}]\n"
   ]
  },
  {
   "cell_type": "code",
   "execution_count": 10,
   "metadata": {},
   "outputs": [
    {
     "name": "stdout",
     "output_type": "stream",
     "text": [
      "A man walks into a bar and asks for a glass of water. The bartender pulls out a gun and points it at him. The man says \"Thank you\" and walks out. Why?\n"
     ]
    }
   ],
   "source": [
    "# Ask it again\n",
    "\n",
    "response = deepseek.chat.completions.create(\n",
    "    model=\"deepseek-chat\",\n",
    "    messages=messages\n",
    ")\n",
    "\n",
    "answer = response.choices[0].message.content\n",
    "print(answer)\n"
   ]
  },
  {
   "cell_type": "code",
   "execution_count": null,
   "metadata": {},
   "outputs": [
    {
     "data": {
      "text/markdown": [
       "Let's analyze the problem step by step:\n",
       "\n",
       "We have three boxes:\n",
       "- Box A: Labeled \"Apples\" (but this is incorrect)\n",
       "- Box B: Labeled \"Oranges\" (but this is incorrect)\n",
       "- Box C: Labeled \"Apples and Oranges\" (but this is incorrect)\n",
       "\n",
       "Since every label is wrong, we know:\n",
       "- The box labeled \"Apples\" does not contain only apples.\n",
       "- The box labeled \"Oranges\" does not contain only oranges.\n",
       "- The box labeled \"Apples and Oranges\" does not contain a mixture.\n",
       "\n",
       "Therefore, the box labeled \"Apples and Oranges\" must contain either only apples or only oranges (because it cannot be mixed).\n",
       "\n",
       "Now, to correctly relabel all boxes, we need to determine the actual contents of each box with minimal inspections.\n",
       "\n",
       "**Strategy:**\n",
       "1. Since the box labeled \"Apples and Oranges\" cannot be mixed, it must be either all apples or all oranges. So, if we inspect one fruit from this box, we can determine its true content.\n",
       "   - If we take one fruit from box C (labeled \"Apples and Oranges\") and it is an apple, then this box actually contains only apples (because it can't be mixed). Similarly, if it is an orange, it contains only oranges.\n",
       "\n",
       "2. Without loss of generality, suppose we find that box C (labeled \"Apples and Oranges\") actually contains only apples. Then:\n",
       "   - Since box C has apples, and the label \"Apples\" is incorrect, box A (labeled \"Apples\") cannot contain only apples. But we already know box C has apples, so box A must contain only oranges (because the only other possibility is mixed, but we have only three types: all apples, all oranges, or mixed). Similarly, box B (labeled \"Oranges\") cannot contain only oranges, so it must be mixed.\n",
       "\n",
       "3. Similarly, if box C (labeled \"Apples and Oranges\") actually contains only oranges, then:\n",
       "   - Box B (labeled \"Oranges\") cannot contain only oranges, so it must be mixed.\n",
       "   - Box A (labeled \"Apples\") cannot contain only apples (since label is wrong), and since box C has oranges, box A must be mixed? Wait no: actually, if box C has oranges, then box A (labeled \"Apples\") cannot have apples (because label wrong), and cannot have oranges (because box C has oranges), so it must be mixed. Then box B (labeled \"Oranges\") must have apples.\n",
       "\n",
       "So, by inspecting just one fruit from the box labeled \"Apples and Oranges\", we can deduce the contents of all boxes.\n",
       "\n",
       "**Therefore, the minimum number of fruits to remove and inspect is 1, from the box labeled \"Apples and Oranges\".**\n",
       "\n",
       "**Example:**\n",
       "- Suppose we take one fruit from box C (labeled \"Apples and Oranges\") and it is an apple.\n",
       "  - Then box C actually contains only apples.\n",
       "  - Now, box A is labeled \"Apples\", but it is incorrect, so it cannot contain only apples. Since box C has apples, box A must contain only oranges (because if it were mixed, that would be possible, but we have only three boxes: one all apples, one all oranges, one mixed). Actually, the boxes are: one with only apples, one with only oranges, one with both. So if box C has apples, then box A (labeled apples) cannot have apples, so it must have either oranges or mixed. But if it had mixed, then box B would have oranges, but box B is labeled oranges which is wrong, so if it had oranges that would be correct? Wait no: we need to assign uniquely.\n",
       "\n",
       "Better to list possibilities:\n",
       "\n",
       "Let the actual contents be:\n",
       "- One box: only apples\n",
       "- One box: only oranges\n",
       "- One box: mixed\n",
       "\n",
       "The labels are all wrong.\n",
       "\n",
       "After we find that box C (labeled mixed) has only apples (by drawing one apple), then:\n",
       "- Box C is actually only apples.\n",
       "- Box A is labeled apples (wrong), so it cannot be only apples. It could be only oranges or mixed.\n",
       "- Box B is labeled oranges (wrong), so it cannot be only oranges. It could be only apples or mixed.\n",
       "\n",
       "But since box C is only apples, the only apples box is taken. So box A cannot be only apples (already known), and cannot be only apples (box C is), so it must be either only oranges or mixed. Similarly, box B cannot be only oranges, and cannot be only apples (box C is), so it must be mixed.\n",
       "\n",
       "But if box A is only oranges, then box B must be mixed. This works.\n",
       "If box A is mixed, then box B must be only oranges, but box B is labeled oranges which would be correct? But all labels are wrong, so box B cannot be only oranges. Therefore, box A cannot be mixed; it must be only oranges, and box B must be mixed.\n",
       "\n",
       "So indeed, with one fruit from box C, we can deduce all.\n",
       "\n",
       "Similarly if we draw an orange from box C.\n",
       "\n",
       "Thus, only one inspection is needed.\n",
       "\n",
       "**Final Answer:**\n",
       "\\[\n",
       "\\boxed{1}\n",
       "\\]\n",
       "You need to remove and inspect only one fruit from the box labeled \"Apples and Oranges\"."
      ],
      "text/plain": [
       "<IPython.core.display.Markdown object>"
      ]
     },
     "metadata": {},
     "output_type": "display_data"
    }
   ],
   "source": [
    "display(Markdown(answer))\n"
   ]
  },
  {
   "cell_type": "markdown",
   "metadata": {},
   "source": [
    "<h1> Exercise </h1>\n",
    "\n",
    "<p>First ask the LLM to pick a business area that might be worth exploring for an Agentic AI opportunity.<br/>\n",
    "            Then ask the LLM to present a pain-point in that industry - something challenging that might be ripe for an Agentic solution.<br/>\n",
    "            Finally have third LLM call propose the Agentic AI solution. <br/>\n",
    "            <p>\n",
    "            "
   ]
  },
  {
   "cell_type": "code",
   "execution_count": 18,
   "metadata": {},
   "outputs": [
    {
     "data": {
      "text/markdown": [
       "Of course. This is an excellent question. After analyzing current trends, technological capabilities, and market pain points, one business area that stands out as ripe for Agentic AI is:\n",
       "\n",
       "**Corporate Travel and Expense (T&E) Management.**\n",
       "\n",
       "This is a multi-billion dollar industry fraught with inefficiency, complex rules, and employee frustration. An Agentic AI system is perfectly suited to own and optimize this entire workflow.\n",
       "\n",
       "---\n",
       "\n",
       "### The Business Area: Corporate Travel & Expense (T&E) Management\n",
       "\n",
       "#### Why It's a Prime Candidate for Agentic AI:\n",
       "\n",
       "1.  **High Process Complexity:** Booking travel involves multiple steps (flight, hotel, rental car), each with its own set of dynamic variables (price, timing, preferences, policies). Expenses involve receipt capture, categorization, policy compliance, and reconciliation. This is a classic \"multi-step workflow\" that agents excel at.\n",
       "2.  **Rule-Based, Yet Dynamic:** Corporate travel policies are a set of strict rules (e.g., \"must book economy class for flights under 5 hours,\" \"maximum hotel rate of $250/night in NYC\"). However, applying these rules requires understanding context and making trade-offs, which an AI agent can learn and handle.\n",
       "3.  **Significant Cost & Time Savings:** Inefficient travel booking and expense report errors cost companies enormous sums. An agent that consistently finds the best prices and ensures 100% policy compliance *before* booking would have a clear and immediately calculable ROI.\n",
       "4.  **Employee Pain Point:** Employees hate managing expenses and navigating complex booking tools. An AI agent that acts as a personal, proactive travel assistant would drastically improve the employee experience.\n",
       "5.  **Data-Rich Environment:** The domain is full of structured and unstructured data (receipts, emails, policy documents, booking confirmations) that an AI can learn from to become more efficient over time.\n",
       "\n",
       "---\n",
       "\n",
       "### The Agentic AI Opportunity: \"T&E Agent\"\n",
       "\n",
       "This wouldn't be just a better chatbot. It would be a proactive, multi-agent system that handles the entire process from end to end.\n",
       "\n",
       "**How the Agentic System Would Work:**\n",
       "\n",
       "*   **User Interaction Agent:** The employee interacts with a simple chat interface (e.g., Slack, Teams, or a dedicated app). They say, \"I need to go to the Berlin conference from October 12-15 and need a hotel near the venue.\"\n",
       "*   **Orchestrator Agent:** This master agent breaks down the request into sub-tasks: `book_flight`, `book_hotel`, `create_expense_report`.\n",
       "*   **Research & Booking Agent:** This agent has tools (APIs) to search multiple providers (e.g., Amex GBT, SAP Concur, direct airline/hotel APIs, Google Flights). It doesn't just return links; it *executes*. It finds options that fit the policy, presents the top 3 best *compliant* choices to the user for a quick approval, and then **completes the booking**.\n",
       "*   **Policy Agent:** This agent runs concurrently. It knows the company's travel policy inside and out. It vetos any non-compliant options the Booking Agent finds and can even suggest superior compliant alternatives (\"This hotel is $260, but it's $10 over policy. Would you like me to request an exception from your manager, or should I book the compliant option 0.2 miles away for $240?\").\n",
       "*   **Expense Management Agent:** *Proactively* and automatically. After the trip, it:\n",
       "    *   Scans the user's email to find all digital receipts.\n",
       "    *   Uses vision models to extract amounts, dates, and vendors from paper receipts (via a mobile app photo).\n",
       "    *   Automatically categorizes expenses and matches them to the correct corporate project/client code.\n",
       "    *   Pre-populates and submits the expense report for the user. The user just has to click \"Submit.\"\n",
       "    *   Answers questions like, \"What's the status of my Berlin expense report?\" or \"How much of my Q3 travel budget have I spent?\"\n",
       "\n",
       "---\n",
       "\n",
       "### Why This is a \"Venture-Scale\" Opportunity\n",
       "\n",
       "*   **Clear Monetization:** SaaS subscription model based on a per-user-per-month fee. The value proposition is so strong (\"We will save you more than our cost\") that sales become easier. Potential for a percentage-of-savings model for large enterprises.\n",
       "*   **Defensibility:** The system's effectiveness would be based on a deep, proprietary understanding of complex corporate policies and a seamless integration network with booking and ERP platforms (like NetSuite, Workday). The more data it processes, the better its policy engine and cost-optimization algorithms become.\n",
       "*   **Market Size:** The global business travel market is projected to exceed **$1.7 trillion** by 2027. Even capturing a tiny fraction of this spend in managed fees represents a huge business.\n",
       "*   **Evolution Path:** Start with expense management (easier initial use case), then expand into the more complex travel booking, eventually becoming an autonomous \"Chief of Staff\" for employee operational tasks.\n",
       "\n",
       "**Biggest Challenges:**\n",
       "*   **Integration:** Requires deep API integrations with existing travel booking platforms (Concur, Egencia) and ERP systems.\n",
       "*   **Trust & Security:** Handling sensitive financial data and spending company money requires impeccable security and a flawless compliance record.\n",
       "*   **Handling Exceptions:** The AI must be brilliant at knowing when to autonomously decide and when to \"escalate to human\" for an exception or a complex, unusual request.\n",
       "\n",
       "In summary, **Corporate T&E** is a perfect storm of a painful, expensive, rule-based process that is begging for an autonomous, agentic solution. The company that builds a truly reliable and comprehensive \"T&E Agent\" would have a massive competitive advantage."
      ],
      "text/plain": [
       "<IPython.core.display.Markdown object>"
      ]
     },
     "metadata": {},
     "output_type": "display_data"
    }
   ],
   "source": [
    "#model name \n",
    "\n",
    "model_name = \"deepseek-chat\"\n",
    "# Buiding a question\n",
    "question = \"Can you pick a business area that might be worth exploring for an Agentic AI opportunity?\"\n",
    "\n",
    "# Create a list of messages in the familiar OpenAI format\n",
    "messages = [{\"role\" : \"user\", \"content\" : question}]\n",
    "\n",
    "#Ask Deepseek!\n",
    "response = deepseek.chat.completions.create(model=model_name , messages= messages)\n",
    "business_idea = response.choices[0].message.content \n",
    "\n",
    "display(Markdown(business_idea))"
   ]
  },
  {
   "cell_type": "code",
   "execution_count": 19,
   "metadata": {},
   "outputs": [
    {
     "data": {
      "text/markdown": [
       "Of course. While the entire T&E process is ripe for disruption, one specific, high-frequency, and universally despised pain point is:\n",
       "\n",
       "**The Manual Reconciliation of Corporate Credit Card Statements.**\n",
       "\n",
       "This is a granular, time-consuming, and error-prone task that plagues both employees and finance teams. An Agentic AI solution is perfectly positioned to not just alleviate but completely solve it.\n",
       "\n",
       "---\n",
       "\n",
       "### The Specific Pain Point: \"The End-of-Month Credit Card Reconciliation Nightmare\"\n",
       "\n",
       "**Who it hurts:** Employees and the Finance/Accounting department.\n",
       "\n",
       "**The Problem:**\n",
       "At the end of every billing cycle, an employee receives a corporate credit card statement with dozens of transactions. Their task is to:\n",
       "1.  Remember what each charge was for (e.g., \"Stripe charge on Sept 5th for $83.40... was that for software? Which subscription?\").\n",
       "2.  Find the corresponding receipt (digging through emails, paper receipts, or download links).\n",
       "3.  Match the receipt amount and date to the transaction.\n",
       "4.  Categorize the expense correctly (e.g., \"Software Subscription - Project Alpha\").\n",
       "5.  Ensure the expense is compliant with company policy.\n",
       "6.  Submit all of this into the expense management system.\n",
       "7.  **Repeat for every single transaction.**\n",
       "\n",
       "For the finance team, the problem is the reverse: they receive hundreds of submitted expense reports and must audit them against the credit card feed, flagging discrepancies, missing receipts, and policy violations. This process is slow, manual, and often results in delayed reimbursements (for personal cards) or accounting errors.\n",
       "\n",
       "### Why This is a Perfect Agentic AI Challenge:\n",
       "\n",
       "1.  **It's a Multi-Step Cognitive Task:** It requires finding information (receipts), understanding context (what was this for?), cross-referencing data (dates, amounts), applying rules (policy), and executing an action (categorizing and submitting). This is the core strength of an agent with a reasoning loop.\n",
       "2.  **It Involves Multi-Modal Data:** The agent must process structured data (the CSV of the credit card statement) and unstructured data (PDF receipts, email text, images of paper receipts). Modern AI agents with vision capabilities are built for this.\n",
       "3.  **It's Rules-Based:** Company expense policies provide a clear set of rules for the agent to follow (e.g., \"Software purchases over $100 require manager pre-approval\").\n",
       "4.  **The Stakes are Perfect for Automation:** The task is too important to ignore (it's financial data) but too tedious for humans to do well. Mistakes lead to significant downstream inefficiencies.\n",
       "\n",
       "---\n",
       "\n",
       "### The Agentic Solution: The \"Autonomous Reconciliation Agent\"\n",
       "\n",
       "This agent wouldn't just be a better OCR tool. It would be a proactive, autonomous system that owns the reconciliation process.\n",
       "\n",
       "**How It Would Work:**\n",
       "\n",
       "1.  **Trigger:** At the end of the billing cycle, the agent is automatically triggered. It securely connects to the corporate credit card provider's API and pulls the statement for a given employee.\n",
       "\n",
       "2.  **The Reasoning Loop (For Each Transaction):**\n",
       "    *   **Step 1: Data Extraction.** The agent reads the transaction data: date, amount, vendor (e.g., \"AMAZON MKTPLACE PMTS\").\n",
       "    *   **Step 2: Receipt Discovery.** The agent uses its tools to hunt for a matching receipt. It scans the user's approved email inbox for digital receipts from that vendor around that date. It checks a dedicated \"receipts\" folder in the user's cloud storage. If no digital receipt is found, it sends a polite nudge to the user via Slack: \"Hi Sarah, I can't find a receipt for your Amazon charge on Sept 5th for $83.40. Can you please take a picture of it?\"\n",
       "    *   **Step 3: Multi-Modal Understanding.** Using vision models, the agent analyzes the found receipt (whether PDF or image) to extract the total amount, date, and itemized list of purchases.\n",
       "    *   **Step 4: Contextual Categorization.** This is the intelligent part. The agent doesn't just see \"Amazon\"; it reads the receipt line items.\n",
       "        *   It sees \"Amazon Web Services\" and categorizes it as `Software - Cloud Infrastructure`.\n",
       "        *   It sees \"BIC Round Stic Grip Ballpoint Pens\" and categorizes it as `Office Supplies`.\n",
       "        *   It uses company-specific context: \"This charge is from a vendor we have a contract with; it must be tagged to `Project Beta`.\"\n",
       "    *   **Step 5: Policy Compliance Check.** The agent checks the categorized expense against the company's policy rules. \"Office supplies under $100 are automatically approved.\" ✅ \"This cloud service charge is $500, but the employee's manager pre-approved it via email on Aug 20th.\" The agent can verify this by scanning the manager's email for approval. ✅\n",
       "    *   **Step 6: Action.** The agent populates the expense report line item with all the correct data: amount, date, category, project code, and attached receipt.\n",
       "\n",
       "3.  **Completion and Submission:** Once every transaction on the statement has been processed, the agent compiles the complete expense report. It presents it to the user with a summary: \"Your October Amex statement has been reconciled. 23 transactions were found and categorized. One transaction for $55.32 from 'Cloudflare Inc' is missing a receipt. Please review and click 'Submit'.\" The user's job is reduced to a 10-second review and a single click.\n",
       "\n",
       "**The Value Proposition:**\n",
       "\n",
       "*   **For Employees:** Saves 1-2 hours of frustrating work per month. Eliminates the anxiety of lost receipts and rejected reports.\n",
       "*   **For Finance Teams:** Receives perfectly formatted, pre-audited, and policy-compliant expense reports. Reduces their auditing workload by over 80%, allowing them to focus on exceptions and strategic analysis.\n",
       "*   **For the Company:** Drastically improves compliance, provides real-time visibility into spending, and closes the books faster at the end of the month.\n",
       "\n",
       "This specific pain point is a \"wedge\" – a clearly defined, acute problem that an Agentic AI can solve completely. Success here would provide the foundation and trust to expand into the broader T&E opportunities, like autonomous travel booking."
      ],
      "text/plain": [
       "<IPython.core.display.Markdown object>"
      ]
     },
     "metadata": {},
     "output_type": "display_data"
    }
   ],
   "source": [
    "# Now, Let's ask LLM to present a pain-point in that industry - something challenging that might be ripe for an Agentic solution.\n",
    "\n",
    "# Create the question with the Idea\n",
    "second_question = \"Can you give a pain-point in that industry - something challenging that might be ripe for an Agentic solution?\"\n",
    "messages = [{\"role\" : \"user\" , \"content\":business_idea } , { \"role\" : \"user\" , \"content\" : second_question}]\n",
    "\n",
    "response = deepseek.chat.completions.create(model=model_name, messages= messages)\n",
    "pain_point = response.choices[0].message.content\n",
    "\n",
    "display(Markdown(pain_point))\n"
   ]
  },
  {
   "cell_type": "code",
   "execution_count": null,
   "metadata": {},
   "outputs": [],
   "source": [
    "# Now, Let's ask deepseek to propose the Agentic AI solution.\n",
    "third_question = \"Can you propose the Agentic AI solution?\"\n",
    "\n",
    "#Building the message\n",
    "messages = [{\"role\":\"user\", \"content\": business_idea}, {\"role\": \"user\", \"content\": pain_point}, {\"role\":\"user\", \"content\": third_question}]\n",
    "\n",
    "#Lets ask deepseek for solution\n",
    "response = deepseek.chat.completions.create(model=model_name, messages= messages)\n",
    "solution = response.choices[0].message.content\n",
    "\n"
   ]
  },
  {
   "cell_type": "code",
   "execution_count": 24,
   "metadata": {},
   "outputs": [
    {
     "data": {
      "text/markdown": [
       "Of course. This is an excellent and precise challenge. An Agentic AI solution for this problem wouldn't just be a tool; it would be a proactive, autonomous employee dedicated to the task.\n",
       "\n",
       "Here is a proposal for the **Autonomous Reconciliation Agent**.\n",
       "\n",
       "---\n",
       "\n",
       "### **Solution Proposal: The \"ReconBot\" Agentic System**\n",
       "\n",
       "**Core Principle:** ReconBot doesn't assist with reconciliation; it *owns* the process end-to-end. Its goal is to achieve a \"zero-touch\" reconciliation rate for as many transactions as possible, only escalating to the human user for exceptions it cannot resolve.\n",
       "\n",
       "#### **1. High-Level Architecture (Multi-Agent Design)**\n",
       "\n",
       "ReconBot is not a single monolithic AI but a system of specialized agents working in concert, orchestrated by a central \"Recon Manager.\"\n",
       "\n",
       "*   **Recon Manager (Orchestrator Agent):** The brain of the operation. It receives the trigger (e.g., \"New statement available for user X\"), breaks the problem down into tasks for each transaction, manages the workflow, and handles final submission.\n",
       "*   **Data Extraction Agent:** Specializes in connecting to APIs (credit card provider, email, cloud storage) and cleanly extracting structured data from unstructured sources (CSV statements, PDFs, images).\n",
       "*   **Receipt Hunter Agent:** An autonomous agent with a single goal: find a receipt that matches a given transaction. It executes a search strategy across email, cloud storage, and internal databases.\n",
       "*   **Policy Compliance Agent:** This agent has read and internalized the company's expense policy. It is the rule-keeper, validating each expense against policy rules and checking for required pre-approvals.\n",
       "*   **Contextual Reasoning Agent:** The most advanced agent. It uses the extracted data to answer the question: \"**What was this expense for?**\" It categorizes expenses and assigns them to the correct project/client code using historical data, vendor information, and line-item details.\n",
       "\n",
       "#### **2. The Step-by-Step Agentic Workflow**\n",
       "\n",
       "Here’s how these agents work together for a single transaction:\n",
       "\n",
       "**Step 0: Trigger & Initiation**\n",
       "*   The **Recon Manager** is triggered on a schedule (e.g., 1st of the month) or by an event (e.g., \"Card statement issued\" webhook from the bank).\n",
       "*   It authenticates securely with the corporate card API and downloads the statement for a specific user.\n",
       "*   It iterates through each transaction, creating a sub-task for each one.\n",
       "\n",
       "**Step 1: For a Transaction - Data Extraction & Enrichment**\n",
       "*   The **Data Extraction Agent** takes a transaction (e.g., `Date: 2023-10-05 | Vendor: \"AMAZON MKTPLACE PMTS\" | Amount: $83.40`).\n",
       "*   It immediately enriches this data by querying internal databases: \"Is 'AMAZON MKTPLACE PMTS' a known vendor in our system? If so, what is its default category (e.g., `Software` or `Office Supplies`)?\"\n",
       "\n",
       "**Step 2: The Autonomous Receipt Hunt**\n",
       "*   The **Receipt Hunter Agent** takes the enriched transaction data.\n",
       "*   It uses its tools (function calls) to:\n",
       "    1.  **Search the user's email** for messages from `amazon.com` around `2023-10-05`.\n",
       "    2.  **Scan cloud storage folders** (e.g., a designated \"Receipts\" folder in Google Drive/Dropbox) for files with a similar amount or date in the filename.\n",
       "    3.  **Query the Expense System** to see if a receipt was already uploaded for this transaction.\n",
       "*   If it finds a digital receipt (PDF, JPG), it passes it to the **Data Extraction Agent** to parse it using OCR and vision models, extracting line items, total amount, and tax.\n",
       "\n",
       "**Step 3: Validation & Matching**\n",
       "*   The **Recon Manager** compares the transaction amount (`$83.40`) with the receipt total. If they match ✅, it proceeds. If they don't ❌, it flags this as a discrepancy for human review.\n",
       "*   It also checks the dates to ensure they are within a plausible range.\n",
       "\n",
       "**Step 4: Contextual Reasoning & Categorization**\n",
       "*   The **Contextual Reasoning Agent** now answers the critical question. It analyzes the parsed receipt line items:\n",
       "    *   Receipt line item: `\"AWS EC2 Usage - $83.40\"`\n",
       "    *   The agent reasons: \"`AWS` stands for Amazon Web Services. This is a cloud computing service. Based on our company's chart of accounts, this should be categorized as `Software - Cloud Infrastructure`. Furthermore, the internal vendor database shows our contract for AWS is tied to `Project Phoenix`.\"\n",
       "*   It populates the expense line: `Category: Software - Cloud Infrastructure | Project: Project Phoenix`.\n",
       "\n",
       "**Step 5: Policy Compliance Check**\n",
       "*   The **Policy Compliance Agent** reviews the nearly complete expense line.\n",
       "*   It checks: \"Does `Project Phoenix` have a budget for `Cloud Infrastructure`?\" ✅\n",
       "*   \"Does this expense require a manager's pre-approval based on the amount and category?\" (e.g., \"Software over $500 requires pre-approval\"). For `$83.40`, it does not. ✅\n",
       "*   If pre-approval was needed, the agent would search the manager's email for approval or automatically generate a message to the manager to request retroactive approval.\n",
       "\n",
       "**Step 6: Resolution & Loop Closure**\n",
       "*   The **Recon Manager** marks this transaction as **\"Autonomously Reconciled.\"**\n",
       "*   If any step fails (e.g., no receipt found, amount mismatch, policy violation), it moves the transaction to an **\"Exception Queue\"** and triggers a **User Solicitation Agent**.\n",
       "\n",
       "**Step 7: Human-in-the-Loop (For Exceptions)**\n",
       "*   The **User Solicitation Agent** manages all exceptions. It sends targeted, intelligent nudges to the user via their preferred channel (Slack, Teams, Email).\n",
       "*   *Bad Nudge (current systems):* \"You have a missing receipt.\"\n",
       "*   *ReconBot Nudge:* \"Hi Sarah, I'm reconciling your October Amex statement. I found a charge for `$55.32` at `Cloudflare Inc` on `Oct 12`, but I can't locate a receipt. Could you please take a picture of it? This is the only thing holding up your report.\"\n",
       "*   The user responds by uploading a photo. The system picks up where it left off, attempting to complete Steps 2-6 again with the new information.\n",
       "\n",
       "**Final Step: Submission & Audit**\n",
       "*   Once all transactions are processed (either autonomously or via human-in-the-loop), the **Recon Manager** compiles the entire expense report.\n",
       "*   It presents it to the user with a clear summary: **\"Your October Expense Report is ready. 28 of 29 transactions were handled automatically. One requires your quick review. Click here to submit.\"**\n",
       "*   The user spends seconds reviewing and clicking \"Submit,\" rather than hours building the report.\n",
       "\n",
       "---\n",
       "\n",
       "### **Why This is a True Agentic AI Solution**\n",
       "\n",
       "*   **Proactive & Autonomous:** It triggers itself and works without human prompting.\n",
       "*   **Tool Use:** It doesn't just think; it *acts* by using APIs, searching emails, and parsing documents.\n",
       "*   **Reasoning Loop:** It follows a \"Sense -> Think -> Act\" loop for each transaction, persisting until the task is solved or escalated.\n",
       "*   **Dynamic Handling:** It can navigate failures and exceptions by engaging a human strategically, rather than giving up.\n",
       "*   **Self-Improving:** The system can learn from user corrections. If a user consistently categorizes \"AWS\" charges under a different project, the Contextual Reasoning Agent can adapt its model for that user.\n",
       "\n",
       "This solution directly attacks the stated pain point, transforming a monthly hours-long chore into a minute-long review, demonstrating immediate and undeniable value."
      ],
      "text/plain": [
       "<IPython.core.display.Markdown object>"
      ]
     },
     "metadata": {},
     "output_type": "display_data"
    }
   ],
   "source": [
    "display(Markdown(solution))"
   ]
  }
 ],
 "metadata": {
  "kernelspec": {
   "display_name": ".venv",
   "language": "python",
   "name": "python3"
  },
  "language_info": {
   "codemirror_mode": {
    "name": "ipython",
    "version": 3
   },
   "file_extension": ".py",
   "mimetype": "text/x-python",
   "name": "python",
   "nbconvert_exporter": "python",
   "pygments_lexer": "ipython3",
   "version": "3.12.2"
  }
 },
 "nbformat": 4,
 "nbformat_minor": 2
}
